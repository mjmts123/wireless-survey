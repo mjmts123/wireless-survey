{
 "cells": [
  {
   "cell_type": "code",
   "execution_count": 85,
   "metadata": {},
   "outputs": [],
   "source": [
    "import numpy as np\n",
    "import pandas as pd\n",
    "import openpyxl as op\n",
    "pd.set_option(\"display.precision\", 0)"
   ]
  },
  {
   "cell_type": "code",
   "execution_count": 86,
   "metadata": {},
   "outputs": [],
   "source": [
    "myworkbook = op.load_workbook(\"Main December 2019 version 2.xlsx\", keep_vba=True)\n",
    "worksheet = myworkbook['January 2019']\n",
    "df = pd.read_excel(\"Wireless Survey November 2019v3.xlsx\")\n",
    "cols = [3,8,11,13]\n",
    "df.drop(df.columns[cols], axis = 1, inplace = True)\n",
    "df.rename(columns = { 'AT&T -\\xa0Negative' : \"AT&T - Negative\", 'None of the above.1': \"None of the above\",\n",
    " 'Other (please specify).1': \"Other (please specify)\"} , inplace = True)"
   ]
  },
  {
   "cell_type": "code",
   "execution_count": 87,
   "metadata": {},
   "outputs": [
    {
     "data": {
      "text/plain": [
       "['Are you currently on a contract (postpaid) or a prepaid wireless plan?',\n",
       " 'How many wireless devices do you have on a single account?',\n",
       " 'Which wireless carrier do you currently use?',\n",
       " 'What’s your typical all-in bill from your wireless carrier including the monthly plan, device payments and any other add-on services?',\n",
       " 'How satisfied are you with the signal quality (voice, data) of your service?',\n",
       " 'How likely are you to consider changing your wireless carrier in the next 12 months?',\n",
       " 'If you were to switch wireless carriers, which carrier would you most likely switch to?',\n",
       " 'How long have you been with your current carrier?',\n",
       " 'Which wireless carrier did you switch from to your current carrier?',\n",
       " 'What is the most important factor in deciding an alternative, different wireless provider? (Select all the apply)',\n",
       " 'Are you currently on an unlimited data plan? If not, how likely are you to switch to one in the next 12 months?',\n",
       " 'Is your cell phone your primary means of accessing the internet?',\n",
       " 'Do you expect that you will only rely on your wireless service (instead of broadband/cable/WiFi) as a means of accessing the internet in the future?',\n",
       " 'AT&T - Positive',\n",
       " 'AT&T - Negative',\n",
       " 'Sprint - Positive',\n",
       " 'Sprint - Negative',\n",
       " 'T-Mobile - Positive',\n",
       " 'T-Mobile - Negative',\n",
       " 'Verizon - Positive',\n",
       " 'Verizon - Negative',\n",
       " 'Xfinity Mobile - Positive',\n",
       " 'Xfinity Mobile - Negative',\n",
       " 'Spectrum Mobile - Positive',\n",
       " 'Spectrum Mobile - Negative',\n",
       " 'Virgin Mobile - Positive',\n",
       " 'Virgin Mobile - Negative',\n",
       " 'Boost Mobile - Positive',\n",
       " 'Boost Mobile - Negative',\n",
       " 'MetroPCS - Positive',\n",
       " 'MetroPCS - Negative',\n",
       " 'Cricket Wireless - Positive',\n",
       " 'Cricket Wireless - Negative',\n",
       " 'Tracfone - Positive',\n",
       " 'Tracfone - Negative',\n",
       " 'Straight Talk - Positive',\n",
       " 'Straight Talk - Negative',\n",
       " 'Consumer Cellular - Positive',\n",
       " 'Consumer Cellular - Negative',\n",
       " 'U.S. Cellular - Positive',\n",
       " 'U.S. Cellular - Negative',\n",
       " 'Project Fi (Google) - Positive',\n",
       " 'Project Fi (Google) - Negative',\n",
       " 'Altice Mobile - Positive',\n",
       " 'Altice Mobile - Negative',\n",
       " 'Mint Mobile - Positive',\n",
       " 'Mint Mobile - Negative',\n",
       " 'None of the above',\n",
       " 'Other (please specify)',\n",
       " 'AT&T',\n",
       " 'Sprint',\n",
       " 'T-Mobile',\n",
       " 'Verizon',\n",
       " 'Xfinity Mobile',\n",
       " 'Spectrum Mobile',\n",
       " 'Virgin Mobile',\n",
       " 'Boost Mobile',\n",
       " 'MetroPCS',\n",
       " 'Cricket Wireless',\n",
       " 'Tracfone',\n",
       " 'Straight Talk',\n",
       " 'Consumer Cellular',\n",
       " 'U.S. Cellular',\n",
       " 'Project Fi (Google)',\n",
       " 'Altice Mobile',\n",
       " 'Mint Mobile',\n",
       " 'None of the above',\n",
       " 'Other (please specify)',\n",
       " 'Age',\n",
       " 'Gender',\n",
       " 'Household Income',\n",
       " 'Region',\n",
       " 'Device Type']"
      ]
     },
     "execution_count": 87,
     "metadata": {},
     "output_type": "execute_result"
    }
   ],
   "source": [
    "# df.head()\n",
    "list(df)\n",
    "# worksheet['A1'] = \"hello world\"\n"
   ]
  },
  {
   "cell_type": "code",
   "execution_count": 88,
   "metadata": {},
   "outputs": [],
   "source": [
    "carriers = [\"AT&T\", \"Cricket Wireless\", \"Verizon\", \"T-Mobile\", \"MetroPCS\", \"Sprint\", \"Boost Mobile\", \"Virgin Mobile\", \"Xfinity Mobile\", \"Spectrum Mobile\"]\n",
    "\n",
    "cols = [\"P\", \"R\", \"V\", \"X\", \"Z\", \"AH\", \"AJ\",\"AL\",\"AP\",\"AR\"]\n",
    "combined_list = [list(a) for a in zip(carriers, cols)]\n",
    "\n",
    "def create_summaries(df, header, options):\n",
    "    x = pd.DataFrame(df[header].value_counts(), options)\n",
    "    print(x)\n",
    "    return x\n",
    "\n",
    "def create_carrier_summaries(df,header, options) :\n",
    "    carriers = [\"AT&T\", \"Cricket Wireless\", \"Verizon\", \"T-Mobile\", \"MetroPCS\", \"Sprint\", \"Boost Mobile\", \"Virgin Mobile\", \"Xfinity Mobile\", \"Spectrum Mobile\", \"Tracfone\"]\n",
    "    for carrier in carriers:\n",
    "                             print(carrier + \"\\n\")\n",
    "                             print(pd.DataFrame(df[df.iloc[:,2] == carrier][header].value_counts(), options).fillna(0))\n",
    "                             print(\"\\n\")\n",
    "                    \n",
    "def update_excel(col, row, summary):\n",
    "    for i in range(0,len(summary)):\n",
    "        worksheet[\"{}{}\".format(col,row + i)] =  summary.iloc[i,0]\n",
    "\n",
    "#think this should work and is what we should use\n",
    "def update_excel_looped(header, options, row):\n",
    "    for carrier, col in combined_list:\n",
    "        summary = pd.DataFrame(df[df.iloc[:,2] == carrier].loc[:,header].value_counts(), options).fillna(0)\n",
    "        update_excel(col, row, summary)\n",
    "    trac = pd.DataFrame(df[df.iloc[:,2].isin([\"Tracfone\", \"Straight Talk\"])].loc[:,header].value_counts(), options).fillna(0)\n",
    "    update_excel(\"AT\", row, trac)\n",
    "        \n",
    "        \n",
    "#think this just wokr and is what we should use.....\n",
    "def by_total(header, options, row):\n",
    "    x = create_summaries(df, header, options)\n",
    "    update_excel(\"C\", row, x)\n",
    "    \n",
    "\n",
    "\n",
    "        "
   ]
  },
  {
   "cell_type": "code",
   "execution_count": 89,
   "metadata": {},
   "outputs": [],
   "source": [
    "# trac = pd.DataFrame(df[df.iloc[:,2].isin([\"Tracfone\", \"Straight Talk\"])])\n",
    "# trac = pd.DataFrame(df[df.iloc[:,2].isin([\"Tracfone\", \"Straight Talk\"])].loc[:,'How long have you been with your current carrier?'].value_counts(), car_len_options)\n",
    "# tracf.fillna()\n",
    "# print(trac)"
   ]
  },
  {
   "cell_type": "markdown",
   "metadata": {},
   "source": [
    "Exhibit 1:"
   ]
  },
  {
   "cell_type": "code",
   "execution_count": 90,
   "metadata": {},
   "outputs": [],
   "source": [
    "sat_options = [\"Not at all satisfied\", \"Not so satisfied\", \"Somewhat satisfied\", \"Very satisfied\", \"Extremely satisfied\"]\n",
    "sat = pd.DataFrame(df.iloc[:, 4].value_counts(), sat_options)\n",
    "# for i in range(0,len(sat)):\n",
    "#     x = \"C{}\".format(394 + i)\n",
    "#     y = sat.iloc[i,0]\n",
    "#     worksheet[x] =  y\n",
    "#sat.iloc[0,0]\n",
    "\n",
    "update_excel(\"C\", 394, sat)\n"
   ]
  },
  {
   "cell_type": "markdown",
   "metadata": {},
   "source": [
    "Exhibit 3"
   ]
  },
  {
   "cell_type": "code",
   "execution_count": 91,
   "metadata": {},
   "outputs": [],
   "source": [
    "\n",
    "\n",
    "# df.iloc[:, 3]\n",
    "for carrier, col in combined_list:\n",
    "    sat_users = pd.DataFrame(df[df.iloc[:,2] == carrier].iloc[:,4].value_counts(), sat_options).fillna(0)\n",
    "    update_excel(col, 399, sat_users)\n",
    "\n",
    "\n",
    "\n",
    "        \n",
    "        \n",
    "#     print(carrier + \"\\n\")\n",
    "#     print(pd.DataFrame(df[df.iloc[:,2] == carrier].iloc[:,4].value_counts(), sat_options).fillna(0))\n",
    "#     print(\"\\n\")\n",
    " \n",
    "    # df[df['Which wireless carrier do you currently use?'] == \"AT&T\"]\n",
    "\n",
    "    \n",
    "#     pd.DataFrame(df.iloc[, 4].value_counts(), sat_options)"
   ]
  },
  {
   "cell_type": "code",
   "execution_count": null,
   "metadata": {},
   "outputs": [],
   "source": []
  },
  {
   "cell_type": "markdown",
   "metadata": {},
   "source": [
    "Exhibit 5"
   ]
  },
  {
   "cell_type": "code",
   "execution_count": 92,
   "metadata": {},
   "outputs": [
    {
     "name": "stdout",
     "output_type": "stream",
     "text": [
      "                   How long have you been with your current carrier?\n",
      "Less than 1 year                                                 201\n",
      "Between 1-3 years                                                454\n",
      "Between 3-5 years                                                362\n",
      "More than 5 years                                               1034\n",
      "Don't know                                                        20\n"
     ]
    }
   ],
   "source": [
    "car_len_options = [\"Less than 1 year\", \"Between 1-3 years\",\"Between 3-5 years\", \"More than 5 years\", \"Don't know\" ]\n",
    "car_len = pd.DataFrame(df[ 'How long have you been with your current carrier?'].value_counts(), car_len_options)\n",
    "# car_len\n",
    "create_summaries(df, 'How long have you been with your current carrier?', car_len_options )\n",
    "\n",
    "\n",
    "update_excel(\"C\", 679, car_len)"
   ]
  },
  {
   "cell_type": "markdown",
   "metadata": {},
   "source": [
    "Exhibit 6"
   ]
  },
  {
   "cell_type": "code",
   "execution_count": 93,
   "metadata": {
    "scrolled": true
   },
   "outputs": [
    {
     "name": "stdout",
     "output_type": "stream",
     "text": [
      "                   How likely are you to consider changing your wireless carrier in the next 12 months?\n",
      "Not at all likely                                                690                                   \n",
      "Not so likely                                                    640                                   \n",
      "Somewhat likely                                                  472                                   \n",
      "Very likely                                                      140                                   \n",
      "Extremely likely                                                 129                                   \n"
     ]
    }
   ],
   "source": [
    "switch_options = [\"Not at all likely\", \"Not so likely\", \"Somewhat likely\", \"Very likely\", \"Extremely likely\"]\n",
    "\n",
    "switch = create_summaries(df, 'How likely are you to consider changing your wireless carrier in the next 12 months?', switch_options)\n",
    "\n",
    "update_excel(\"C\", 470, switch)"
   ]
  },
  {
   "cell_type": "code",
   "execution_count": 94,
   "metadata": {},
   "outputs": [],
   "source": [
    "#create_carrier_summaries(df, 'How likely are you to consider changing your wireless carrier in the next 12 months?', switch_options)"
   ]
  },
  {
   "cell_type": "markdown",
   "metadata": {},
   "source": [
    "Exhibit 8"
   ]
  },
  {
   "cell_type": "code",
   "execution_count": 95,
   "metadata": {},
   "outputs": [],
   "source": [
    "update_excel_looped('How likely are you to consider changing your wireless carrier in the next 12 months?', switch_options, 505)\n",
    "myworkbook.save(\"Main December 2019 version 3.xlsm\")"
   ]
  },
  {
   "cell_type": "markdown",
   "metadata": {},
   "source": []
  },
  {
   "cell_type": "markdown",
   "metadata": {},
   "source": [
    "Exhibit 9- Q11. What is the most important factor in deciding an alternative, different wireless provider? (Select all the apply)\n"
   ]
  },
  {
   "cell_type": "code",
   "execution_count": 96,
   "metadata": {
    "scrolled": false
   },
   "outputs": [
    {
     "name": "stdout",
     "output_type": "stream",
     "text": [
      "                                             What is the most important factor in deciding an alternative, different wireless provider? (Select all the apply)\n",
      "Other                                                                                      NaN                                                                \n",
      "Device selection/promotion at other carrier                                                147                                                                \n",
      "Better customer care at other carrier                                                       91                                                                \n",
      "Better network at other carrier                                                            673                                                                \n",
      "Lower bill at other carrier                                                               1066                                                                \n"
     ]
    }
   ],
   "source": [
    "switch_factor_options = [\"Other\", \"Device selection/promotion at other carrier\", \"Better customer care at other carrier\", \"Better network at other carrier\", \"Lower bill at other carrier\"]\n",
    "switch_factor = create_summaries(df,'What is the most important factor in deciding an alternative, different wireless provider? (Select all the apply)', switch_factor_options)\n",
    "\n",
    "switch_factor.loc[\"Other\"] = df.loc[:,'What is the most important factor in deciding an alternative, different wireless provider? (Select all the apply)'].count() - \\\n",
    "switch_factor.sum()\n",
    "\n",
    "update_excel(\"C\", 827, switch_factor)\n"
   ]
  },
  {
   "cell_type": "markdown",
   "metadata": {},
   "source": [
    "Exhibit 10"
   ]
  },
  {
   "cell_type": "code",
   "execution_count": 97,
   "metadata": {},
   "outputs": [],
   "source": [
    "switch_carrier_options = [\"AT&T\",\n",
    "\"Sprint\",\n",
    "\"T-Mobile\",\n",
    "\"Verizon\",\n",
    "\"Xfinity Mobile\",\n",
    "\"Spectrum Mobile\",\n",
    "\"Cricket Wireless\",\n",
    "\"MetroPCS\",\n",
    "\"Virgin Mobile\",\n",
    "\"Boost Mobile\",\n",
    "\"Tracfone (incl. Straight Talk)\",\n",
    "\"Other (please specify)\",\n",
    "\"I'm definitely not expecting to switch\",\n",
    "\"I don't know\"             \n",
    "]\n",
    "\n",
    "\n",
    "update_excel_looped('If you were to switch wireless carriers, which carrier would you most likely switch to?',\n",
    "                    switch_carrier_options, 564)"
   ]
  },
  {
   "cell_type": "markdown",
   "metadata": {},
   "source": [
    "Exhibit 12"
   ]
  },
  {
   "cell_type": "code",
   "execution_count": 98,
   "metadata": {},
   "outputs": [
    {
     "name": "stdout",
     "output_type": "stream",
     "text": [
      "               What’s your typical all-in bill from your wireless carrier including the monthly plan, device payments and any other add-on services?\n",
      "Less than $75                                                432                                                                                    \n",
      "$75-$100                                                     324                                                                                    \n",
      "$101-$125                                                    253                                                                                    \n",
      "$126-$150                                                    203                                                                                    \n",
      "$151-$175                                                    131                                                                                    \n",
      "$176-$200                                                    159                                                                                    \n",
      "$201-$225                                                    139                                                                                    \n",
      "$226-$250                                                     89                                                                                    \n",
      "$251-$275                                                     49                                                                                    \n",
      "$276-$300                                                     47                                                                                    \n",
      "$301 or more                                                 117                                                                                    \n",
      "Don't know                                                   128                                                                                    \n"
     ]
    }
   ],
   "source": [
    "bill_options =[\"Less than $75\",\n",
    "\"$75-$100\",\n",
    "\"$101-$125\",\n",
    "\"$126-$150\",\n",
    "\"$151-$175\",\n",
    "\"$176-$200\",\n",
    "\"$201-$225\",\n",
    "\"$226-$250\",\n",
    "\"$251-$275\",\n",
    "\"$276-$300\",\n",
    "\"$301 or more\",\n",
    "\"Don't know\"\n",
    "]\n",
    "\n",
    "by_total('What’s your typical all-in bill from your wireless carrier including the monthly plan, device payments and any other add-on services?',\n",
    "       bill_options, 146  )"
   ]
  },
  {
   "cell_type": "markdown",
   "metadata": {},
   "source": [
    "Exhibit 13"
   ]
  },
  {
   "cell_type": "code",
   "execution_count": 99,
   "metadata": {},
   "outputs": [],
   "source": [
    "update_excel_looped('What’s your typical all-in bill from your wireless carrier including the monthly plan, device payments and any other add-on services?',\n",
    "                    bill_options, 171)"
   ]
  },
  {
   "cell_type": "markdown",
   "metadata": {},
   "source": [
    "Exhibit 15"
   ]
  },
  {
   "cell_type": "code",
   "execution_count": 100,
   "metadata": {},
   "outputs": [
    {
     "name": "stdout",
     "output_type": "stream",
     "text": [
      "                                                    Are you currently on an unlimited data plan? If not, how likely are you to switch to one in the next 12 months?\n",
      "Yes, I am currently on an unlimited data plan, ...                                               1170                                                              \n",
      "Yes, I am currently on an unlimited data plan, ...                                                 90                                                              \n",
      "No, and I'm not at all likely to switch                                                           243                                                              \n",
      "No, and I'm not so likely to switch                                                               237                                                              \n",
      "No, but I'm somewhat likely to switch                                                             185                                                              \n",
      "No, but I'm very likely to switch                                                                  92                                                              \n",
      "No, but I'm extremely likely to switch                                                             54                                                              \n"
     ]
    }
   ],
   "source": [
    "data_plan_options = [\"Yes, I am currently on an unlimited data plan, and am likely to stay on\",\n",
    "\"Yes, I am currently on an unlimited data plan, but am likely to switch off\",\n",
    "\"No, and I'm not at all likely to switch\",\n",
    "\"No, and I'm not so likely to switch\",\n",
    "\"No, but I'm somewhat likely to switch\",\n",
    "\"No, but I'm very likely to switch\",\n",
    "\"No, but I'm extremely likely to switch\"\n",
    "]\n",
    "\n",
    "\n",
    "by_total('Are you currently on an unlimited data plan? If not, how likely are you to switch to one in the next 12 months?',\n",
    "         data_plan_options, 938)"
   ]
  },
  {
   "cell_type": "markdown",
   "metadata": {},
   "source": [
    "Exhibit 16"
   ]
  },
  {
   "cell_type": "code",
   "execution_count": 101,
   "metadata": {},
   "outputs": [],
   "source": [
    "update_excel_looped('Are you currently on an unlimited data plan? If not, how likely are you to switch to one in the next 12 months?',\n",
    "                    data_plan_options, 938)"
   ]
  },
  {
   "cell_type": "markdown",
   "metadata": {},
   "source": [
    "Exhibit 17"
   ]
  },
  {
   "cell_type": "code",
   "execution_count": 102,
   "metadata": {},
   "outputs": [],
   "source": [
    "#update_excel_looped('Are you currently on an unlimited data plan? If not, how likely are you to switch to one in the next 12 months?',\n",
    " #                   data_plan_options, 984)"
   ]
  },
  {
   "cell_type": "markdown",
   "metadata": {},
   "source": [
    "Exhibit 18"
   ]
  },
  {
   "cell_type": "code",
   "execution_count": 103,
   "metadata": {},
   "outputs": [
    {
     "name": "stdout",
     "output_type": "stream",
     "text": [
      "                                                    Is your cell phone your primary means of accessing the internet?\n",
      "Yes. I don’t have/need an internet connection a...                                                353               \n",
      "Mostly. I use my cell phone to browse the inter...                                               1023               \n",
      "No. I primarily use my internet connection at h...                                                695               \n"
     ]
    }
   ],
   "source": [
    "access_internet_options = [\"Yes. I don’t have/need an internet connection at home and use my data plan to browse the internet\",\n",
    "\"Mostly. I use my cell phone to browse the internet but mostly through Wi-Fi at work or at home\",\n",
    "\"No. I primarily use my internet connection at home to access the internet\"\n",
    "]\n",
    "\n",
    "by_total('Is your cell phone your primary means of accessing the internet?',\n",
    "        access_internet_options, 1049)\n"
   ]
  },
  {
   "cell_type": "markdown",
   "metadata": {},
   "source": [
    "Exhibit 20"
   ]
  },
  {
   "cell_type": "code",
   "execution_count": 104,
   "metadata": {},
   "outputs": [],
   "source": [
    "update_excel_looped('Is your cell phone your primary means of accessing the internet?',\n",
    "                    access_internet_options, 1071)"
   ]
  },
  {
   "cell_type": "markdown",
   "metadata": {},
   "source": [
    "Exhibit 21"
   ]
  },
  {
   "cell_type": "code",
   "execution_count": 105,
   "metadata": {},
   "outputs": [
    {
     "name": "stdout",
     "output_type": "stream",
     "text": [
      "                                                    Do you expect that you will only rely on your wireless service (instead of broadband/cable/WiFi) as a means of accessing the internet in the future?\n",
      "Yes, I am already planning on not renewing my b...                                                355                                                                                                   \n",
      "No, I don’t expect my phone and wireless plan w...                                               1431                                                                                                   \n",
      "Yes, but only if wireless speeds really improve                                                   285                                                                                                   \n"
     ]
    }
   ],
   "source": [
    "broadband_options = [\"Yes, I am already planning on not renewing my broadband service when my deal is up and instead just use my wireless service for internet access\",\n",
    "\"No, I don’t expect my phone and wireless plan will replace my broadband service at home, at least for the next 2-3 years\",\n",
    "\"Yes, but only if wireless speeds really improve\"\n",
    "]\n",
    "\n",
    "by_total('Do you expect that you will only rely on your wireless service (instead of broadband/cable/WiFi) as a means of accessing the internet in the future?',\n",
    "        broadband_options, 1075)\n"
   ]
  },
  {
   "cell_type": "markdown",
   "metadata": {},
   "source": [
    "Exhibit 23"
   ]
  },
  {
   "cell_type": "code",
   "execution_count": 106,
   "metadata": {},
   "outputs": [],
   "source": [
    "update_excel_looped('Do you expect that you will only rely on your wireless service (instead of broadband/cable/WiFi) as a means of accessing the internet in the future?',\n",
    "              broadband_options, 1160)"
   ]
  },
  {
   "cell_type": "markdown",
   "metadata": {},
   "source": [
    "Exhibit 24"
   ]
  },
  {
   "cell_type": "code",
   "execution_count": 107,
   "metadata": {},
   "outputs": [],
   "source": [
    "update_excel_looped('Do you expect that you will only rely on your wireless service (instead of broadband/cable/WiFi) as a means of accessing the internet in the future?',\n",
    "              broadband_options, 1160)"
   ]
  },
  {
   "cell_type": "markdown",
   "metadata": {},
   "source": [
    "Exhibit 26"
   ]
  },
  {
   "cell_type": "code",
   "execution_count": 108,
   "metadata": {},
   "outputs": [],
   "source": [
    "worksheet[\"P1248\"] = df['AT&T - Positive'].count()\n",
    "worksheet[\"P1249\"] =  df['AT&T - Negative'].count()\n",
    "\n",
    "worksheet[\"R1248\"] =  df['Cricket Wireless - Positive'].count()\n",
    "worksheet[\"R1249\"] =  df['Cricket Wireless - Negative'].count()\n",
    "\n",
    "worksheet[\"V1248\"] =  df['Verizon - Positive'].count()\n",
    "worksheet[\"V1249\"] =  df['Verizon - Negative'].count()\n",
    "\n",
    "worksheet[\"X1248\"] =  df['T-Mobile - Positive'].count()\n",
    "worksheet[\"X1249\"] =  df['T-Mobile - Negative'].count()\n",
    "\n",
    "worksheet[\"Z1248\"] =  df['MetroPCS - Positive'].count()\n",
    "worksheet[\"Z1249\"] =  df['MetroPCS - Negative'].count()\n",
    "\n",
    "worksheet[\"AH1248\"] =  df['Sprint - Positive'].count()\n",
    "worksheet[\"AH1249\"] =  df['Sprint - Negative'].count()\n",
    "\n",
    "worksheet[\"AJ1248\"] =  df['Boost Mobile - Positive'].count()\n",
    "worksheet[\"AJ1249\"] =  df['Boost Mobile - Negative'].count()\n",
    "\n",
    "worksheet[\"AL1248\"] =  df['Virgin Mobile - Positive'].count()\n",
    "worksheet[\"AL1249\"] =  df['Virgin Mobile - Negative'].count()\n",
    "\n",
    "worksheet[\"AP1248\"] =  df['Xfinity Mobile - Positive'].count()\n",
    "worksheet[\"AP1249\"] =  df['Xfinity Mobile - Negative'].count()\n",
    "\n",
    "worksheet[\"AR1248\"] =  df['Spectrum Mobile - Positive'].count()\n",
    "worksheet[\"AR1249\"] =  df['Spectrum Mobile - Negative'].count()\n",
    "\n",
    "worksheet[\"AT1248\"] =  df['Tracfone - Positive'].count()+ df['Straight Talk - Positive'].count()\n",
    "worksheet[\"AT1249\"] =  df['Tracfone - Negative'].count() + df['Straight Talk - Negative'].count()\n",
    "\n",
    "\n",
    "\n",
    "\n",
    "#  'Sprint - Positive',\n",
    "#  'Sprint - Negative',\n",
    "#  'T-Mobile - Positive',\n",
    "#  'T-Mobile - Negative',\n",
    "#  'Verizon - Positive',\n",
    "#  'Verizon - Negative',\n",
    "#  'Xfinity Mobile - Positive',\n",
    "#  'Xfinity Mobile - Negative',\n",
    "#  'Spectrum Mobile - Positive',\n",
    "#  'Spectrum Mobile - Negative',\n",
    "#  'Virgin Mobile - Positive',\n",
    "#  'Virgin Mobile - Negative',\n",
    "#  'Boost Mobile - Positive',\n",
    "#  'Boost Mobile - Negative',\n",
    "#  'MetroPCS - Positive',\n",
    "#  'MetroPCS - Negative',\n",
    "#  'Cricket Wireless - Positive',\n",
    "#  'Cricket Wireless - Negative',\n",
    "#  'Tracfone - Positive',\n",
    "#  'Tracfone - Negative',\n",
    "#  'Straight Talk - Positive',\n",
    "#  'Straight Talk - Negative',\n",
    "#  'Consumer Cellular - Positive',\n",
    "#  'Consumer Cellular - Negative',\n",
    "#  'U.S. Cellular - Positive',\n",
    "#  'U.S. Cellular - Negative',\n",
    "#  'Project Fi (Google) - Positive',\n",
    "#  'Project Fi (Google) - Negative',\n",
    "#  'Altice Mobile - Positive',\n",
    "#  'Altice Mobile - Negative',\n",
    "#  'Mint Mobile - Positive',\n",
    "#  'Mint Mobile - Negative',\n"
   ]
  },
  {
   "cell_type": "code",
   "execution_count": null,
   "metadata": {},
   "outputs": [],
   "source": []
  },
  {
   "cell_type": "markdown",
   "metadata": {},
   "source": [
    "Exhibit 27"
   ]
  },
  {
   "cell_type": "code",
   "execution_count": 109,
   "metadata": {},
   "outputs": [],
   "source": [
    "ad_options = [ \"AT&T\",\n",
    "\"Cricket Wireless\",\n",
    "\"Verizon\",\n",
    "\"T-Mobile\",\n",
    "\"MetroPCS\",\n",
    "\"Sprint\",\n",
    "\"Virgin Mobile\",\n",
    "\"Boost Mobile\",\n",
    "\"Xfinity Mobile\",\n",
    "\"Spectrum Mobile\",\n",
    "\"Tracfone\",\n",
    "\"None of the above\"]\n",
    "\n",
    "\n",
    "\n",
    "ad = pd.DataFrame(df.iloc[:,-24:-6].agg('count'), ad_options)\n",
    "ad.loc[\"Tracfone\"] += df.loc[:,\"Straight Talk\"].count()\n",
    "\n",
    "for i in range(0,len(ad)):\n",
    "         worksheet[\"{}{}\".format(\"BB\",1258 + i)] =  ad.iloc[i,0]\n",
    "        \n",
    "    #worksheet[\"{}{}\".format(col,row + i)] =  summary.iloc[i,0]"
   ]
  },
  {
   "cell_type": "code",
   "execution_count": 110,
   "metadata": {},
   "outputs": [],
   "source": [
    "myworkbook.save(\"Main December 2019 version 3.xlsm\")"
   ]
  }
 ],
 "metadata": {
  "kernelspec": {
   "display_name": "Python 3",
   "language": "python",
   "name": "python3"
  },
  "language_info": {
   "codemirror_mode": {
    "name": "ipython",
    "version": 3
   },
   "file_extension": ".py",
   "mimetype": "text/x-python",
   "name": "python",
   "nbconvert_exporter": "python",
   "pygments_lexer": "ipython3",
   "version": "3.7.4"
  }
 },
 "nbformat": 4,
 "nbformat_minor": 2
}
